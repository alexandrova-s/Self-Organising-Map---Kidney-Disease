{
  "nbformat": 4,
  "nbformat_minor": 0,
  "metadata": {
    "colab": {
      "name": "SOM_kidney_disease.ipynb",
      "provenance": [],
      "collapsed_sections": []
    },
    "kernelspec": {
      "name": "python3",
      "display_name": "Python 3"
    }
  },
  "cells": [
    {
      "cell_type": "code",
      "metadata": {
        "id": "cmojQtkZrPdA",
        "colab_type": "code",
        "outputId": "0e95a154-df66-4b53-eb9a-58e1d53e37dc",
        "colab": {
          "base_uri": "https://localhost:8080/",
          "height": 34
        }
      },
      "source": [
        "from __future__ import absolute_import\n",
        "from __future__ import division\n",
        "from __future__ import print_function\n",
        "\n",
        "import matplotlib\n",
        "import matplotlib.pyplot as plt\n",
        "import numpy as np\n",
        "import pandas as pd\n",
        "import tensorflow as tf\n",
        "tf.__version__"
      ],
      "execution_count": 0,
      "outputs": [
        {
          "output_type": "execute_result",
          "data": {
            "text/plain": [
              "'1.13.1'"
            ]
          },
          "metadata": {
            "tags": []
          },
          "execution_count": 1
        }
      ]
    },
    {
      "cell_type": "markdown",
      "metadata": {
        "id": "FRqiRpATrbkT",
        "colab_type": "text"
      },
      "source": [
        "wczytywanie danych"
      ]
    },
    {
      "cell_type": "code",
      "metadata": {
        "id": "ZWBtjZahrqZM",
        "colab_type": "code",
        "outputId": "bc192ec8-f6a0-4548-ab39-cade906bfa30",
        "colab": {
          "resources": {
            "http://localhost:8080/nbextensions/google.colab/files.js": {
              "data": "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",
              "ok": true,
              "headers": [
                [
                  "content-type",
                  "application/javascript"
                ]
              ],
              "status": 200,
              "status_text": ""
            }
          },
          "base_uri": "https://localhost:8080/",
          "height": 74
        }
      },
      "source": [
        "from google.colab import files\n",
        "uploaded = files.upload()"
      ],
      "execution_count": 0,
      "outputs": [
        {
          "output_type": "display_data",
          "data": {
            "text/html": [
              "\n",
              "     <input type=\"file\" id=\"files-a1a7da4b-5bcf-4af3-ab0e-0327a0f7fe8f\" name=\"files[]\" multiple disabled />\n",
              "     <output id=\"result-a1a7da4b-5bcf-4af3-ab0e-0327a0f7fe8f\">\n",
              "      Upload widget is only available when the cell has been executed in the\n",
              "      current browser session. Please rerun this cell to enable.\n",
              "      </output>\n",
              "      <script src=\"/nbextensions/google.colab/files.js\"></script> "
            ],
            "text/plain": [
              "<IPython.core.display.HTML object>"
            ]
          },
          "metadata": {
            "tags": []
          }
        },
        {
          "output_type": "stream",
          "text": [
            "Saving norm_train_setOK.csv to norm_train_setOK (13).csv\n"
          ],
          "name": "stdout"
        }
      ]
    },
    {
      "cell_type": "code",
      "metadata": {
        "id": "pkC1Q2PGrsnZ",
        "colab_type": "code",
        "colab": {}
      },
      "source": [
        "import io\n",
        "learning_set = pd.read_csv(io.BytesIO(uploaded['norm_train_setOK.csv']))"
      ],
      "execution_count": 0,
      "outputs": []
    },
    {
      "cell_type": "markdown",
      "metadata": {
        "id": "2eDPhnn4ruz6",
        "colab_type": "text"
      },
      "source": [
        "SIEĆ"
      ]
    },
    {
      "cell_type": "code",
      "metadata": {
        "id": "8iQfFd52rumH",
        "colab_type": "code",
        "colab": {}
      },
      "source": [
        "tf.reset_default_graph()"
      ],
      "execution_count": 0,
      "outputs": []
    },
    {
      "cell_type": "code",
      "metadata": {
        "id": "XfjC0QFHr0lw",
        "colab_type": "code",
        "colab": {}
      },
      "source": [
        "width = 100\n",
        "height = 100"
      ],
      "execution_count": 0,
      "outputs": []
    },
    {
      "cell_type": "markdown",
      "metadata": {
        "id": "NNthDIDGr2LF",
        "colab_type": "text"
      },
      "source": [
        "inicjalizacja neuronów wyjściowych (zmienna)"
      ]
    },
    {
      "cell_type": "code",
      "metadata": {
        "id": "BPba6mGXr4ob",
        "colab_type": "code",
        "outputId": "4e6137c5-f1f3-47c8-add8-b5e9dd4514f3",
        "colab": {
          "base_uri": "https://localhost:8080/",
          "height": 88
        }
      },
      "source": [
        "weights_last_iter = tf.placeholder(dtype=tf.float32)\n",
        "weights = tf.Variable(np.random.rand(width, height, 23), dtype=tf.float32)\n",
        "weights_assigned = weights.assign(weights_last_iter)"
      ],
      "execution_count": 0,
      "outputs": [
        {
          "output_type": "stream",
          "text": [
            "WARNING:tensorflow:From /usr/local/lib/python3.6/dist-packages/tensorflow/python/framework/op_def_library.py:263: colocate_with (from tensorflow.python.framework.ops) is deprecated and will be removed in a future version.\n",
            "Instructions for updating:\n",
            "Colocations handled automatically by placer.\n"
          ],
          "name": "stdout"
        }
      ]
    },
    {
      "cell_type": "markdown",
      "metadata": {
        "id": "RtskL55HvNCV",
        "colab_type": "text"
      },
      "source": [
        " liczymy dystans \n",
        "*   wszystkie dane w <0,1>"
      ]
    },
    {
      "cell_type": "code",
      "metadata": {
        "id": "MzpOb8FWr8iq",
        "colab_type": "code",
        "colab": {}
      },
      "source": [
        "input_data = tf.placeholder(tf.float32, name=\"input_data\")\n",
        "dist = (tf.math.reduce_sum((input_data - weights)**2, axis = -1))**(1/2)"
      ],
      "execution_count": 0,
      "outputs": []
    },
    {
      "cell_type": "markdown",
      "metadata": {
        "id": "PLzl4j1Vr_u3",
        "colab_type": "text"
      },
      "source": [
        "TensorBoard"
      ]
    },
    {
      "cell_type": "code",
      "metadata": {
        "id": "OvTbRie4sC92",
        "colab_type": "code",
        "colab": {}
      },
      "source": [
        "# !pip install tensorboardcolab\n",
        "\n",
        "# from tensorboardcolab import TensorBoardColab, TensorBoardColabCallback\n",
        "\n",
        "# tbc=TensorBoardColab()\n"
      ],
      "execution_count": 0,
      "outputs": []
    },
    {
      "cell_type": "code",
      "metadata": {
        "id": "Mso0B1PqsG89",
        "colab_type": "code",
        "colab": {}
      },
      "source": [
        "sess = tf.Session()\n",
        "init = tf.global_variables_initializer()\n",
        "sess.run(init)"
      ],
      "execution_count": 0,
      "outputs": []
    },
    {
      "cell_type": "code",
      "metadata": {
        "id": "zaVa5cjisK5m",
        "colab_type": "code",
        "colab": {}
      },
      "source": [
        "test_win = tf.math.reduce_min(dist)\n",
        "winner_cor = tf.dtypes.cast(tf.where(tf.equal(dist, tf.math.reduce_min(dist))), tf.float32)"
      ],
      "execution_count": 0,
      "outputs": []
    },
    {
      "cell_type": "code",
      "metadata": {
        "id": "QU23pM3rsOwP",
        "colab_type": "code",
        "colab": {}
      },
      "source": [
        "cors_tf = tf.constant(np.indices((width, height)), dtype=tf.float32)\n",
        "cors_tf = tf.transpose(cors_tf, [1,2,0])"
      ],
      "execution_count": 0,
      "outputs": []
    },
    {
      "cell_type": "code",
      "metadata": {
        "id": "60D3pWzdsQ2C",
        "colab_type": "code",
        "colab": {}
      },
      "source": [
        "diff_tf = cors_tf - (winner_cor[0])\n",
        "\n",
        "distance_tf_squared = tf.math.reduce_sum((diff_tf)**2, axis = -1)\n",
        "distance_tf = (distance_tf_squared)**(1/2)"
      ],
      "execution_count": 0,
      "outputs": []
    },
    {
      "cell_type": "markdown",
      "metadata": {
        "id": "pR7MFZJ0sVMC",
        "colab_type": "text"
      },
      "source": [
        "sigma_t"
      ]
    },
    {
      "cell_type": "code",
      "metadata": {
        "id": "RZCrZkrhsXRL",
        "colab_type": "code",
        "colab": {}
      },
      "source": [
        "#numer iteracji t\n",
        "t = tf.placeholder(dtype = tf.float32)\n",
        "\n",
        "#wyjściowa wartość\n",
        "sigma0 = tf.placeholder(dtype = tf.float32)\n",
        "time_const = tf.placeholder(dtype = tf.float32)\n",
        "\n",
        "sigma_t = sigma0 * tf.math.exp(-(t/time_const))"
      ],
      "execution_count": 0,
      "outputs": []
    },
    {
      "cell_type": "markdown",
      "metadata": {
        "id": "xe_Mis3vsZQ3",
        "colab_type": "text"
      },
      "source": [
        "funkcje sąsiedztwa"
      ]
    },
    {
      "cell_type": "code",
      "metadata": {
        "id": "cpYx55uLsZBa",
        "colab_type": "code",
        "colab": {}
      },
      "source": [
        "theta_t = tf.math.exp(-(distance_tf_squared)/(2*sigma_t**2))\n",
        "theta_t = tf.dtypes.cast(tf.expand_dims(theta_t, -1), tf.float32)"
      ],
      "execution_count": 0,
      "outputs": []
    },
    {
      "cell_type": "markdown",
      "metadata": {
        "id": "AjyOKITZsfXb",
        "colab_type": "text"
      },
      "source": [
        "learning rate"
      ]
    },
    {
      "cell_type": "code",
      "metadata": {
        "id": "9Qf9jmIqse8d",
        "colab_type": "code",
        "colab": {}
      },
      "source": [
        "L0 = tf.placeholder(dtype=tf.float32)\n",
        "learning_rate = L0 * tf.math.exp(-(t/time_const))"
      ],
      "execution_count": 0,
      "outputs": []
    },
    {
      "cell_type": "markdown",
      "metadata": {
        "id": "XwQ1ThdSsnDS",
        "colab_type": "text"
      },
      "source": [
        "zmiana wag"
      ]
    },
    {
      "cell_type": "code",
      "metadata": {
        "id": "j9p7SWCaso7q",
        "colab_type": "code",
        "colab": {}
      },
      "source": [
        "weights_updated = weights + theta_t*learning_rate*(input_data - weights)"
      ],
      "execution_count": 0,
      "outputs": []
    },
    {
      "cell_type": "code",
      "metadata": {
        "id": "eGNywgI8c8BA",
        "colab_type": "code",
        "colab": {}
      },
      "source": [
        "import time  \n",
        "import tracemalloc"
      ],
      "execution_count": 0,
      "outputs": []
    },
    {
      "cell_type": "code",
      "metadata": {
        "id": "uNODe6CQrhCG",
        "colab_type": "code",
        "outputId": "11603700-1d2e-433d-f19a-9379d2b33955",
        "colab": {
          "base_uri": "https://localhost:8080/",
          "height": 944
        }
      },
      "source": [
        "start = time.clock()\n",
        "tracemalloc.start()\n",
        "#hyperparameters - nie ulegają uczeniu, ustalamy sami stałe\n",
        "\n",
        "L0_value = 0.8\n",
        "sigma0_value = 30\n",
        "time_const_val = 3000\n",
        "\n",
        "#Funkcja ucząca - argument wejściowy liczba iteracji uczących\n",
        "\n",
        "def learn(epochs):\n",
        "  current_weights = np.random.rand(width, height, 23)\n",
        "  current_theta_t = []\n",
        "  current_lt = []\n",
        "  initial_t = 1\n",
        "  for i in range(1,epochs):\n",
        "    tmp_weights = []\n",
        "    last_weights = current_weights\n",
        "\n",
        "    _, current_weights, current_theta_t, current_lt, distances = sess.run((weights_assigned, weights_updated, theta_t, learning_rate, dist), feed_dict = {input_data: learning_set.iloc[np.random.randint(0,learning_set.iloc[:,0].count()),3:27].values, t: [initial_t], weights_last_iter: current_weights, L0: L0_value, sigma0: sigma0_value, time_const: time_const_val})\n",
        "\n",
        "    initial_t += 1\n",
        "  return distances, current_weights\n",
        "\n",
        "#funkcja sprawdzająca, czy pacjent cierpi na chroniczną niewydolność nerek\n",
        "\n",
        "def check_if_ckd(truth_matrix, inputt):\n",
        "  bmu = sess.run((winner_cor), feed_dict = {input_data: inputt, t: [1], weights_last_iter: learnt, L0: 1, sigma0: 1, time_const: 1})\n",
        "  bmux = int(bmu[0][0])\n",
        "  bmuy = int(bmu[0][1])\n",
        "  return truth_matrix[bmux, bmuy]\n",
        "  \n",
        "def bmu_check(inputt):\n",
        "  bmu = sess.run((winner_cor), feed_dict = {input_data: inputt, t: [1], weights_last_iter: learnt, L0: 1, sigma0: 1, time_const: 1})\n",
        "  return bmu\n",
        "\n",
        "#print(current_theta_t[:,:,0].shape, current_lt, current_weights[0,0,0])\n",
        "  \n",
        "#plt.matshow(current_theta_t[:,:,0])\n",
        "# size = 8\n",
        "# plt.figure(figsize = (4*size,4*size))\n",
        "# for epochy in range(1, size):\n",
        "#    for lambdy in range(1, size):\n",
        "#       print(epochy, lambdy)\n",
        "#       plt.subplot(size, size, epochy*size + lambdy )\n",
        "#       plt.imshow(learn(epochy, lambdy))\n",
        "# plt.show()\n",
        "\n",
        "epoch_list = [10, 20, 40, 50, 80, 100, 400, 700, 1000, 5000, 8000, 12000, 20000, 35000, 50000, 80000]\n",
        "error = []\n",
        "\n",
        "for iters in epoch_list:\n",
        "  _, learnt = learn(iters)\n",
        "  #plt.matshow(np.sum(learnt,axis=-1))\n",
        "\n",
        "  #plt.show()\n",
        "\n",
        "  #learnt\n",
        "  distances_ckd = []\n",
        "  distances_nckd = []\n",
        "  ckd_counter = 0\n",
        "  nckd_counter = 0\n",
        "  for i in range(0, learning_set.iloc[:,0].count()):\n",
        "    data_out = sess.run((dist), feed_dict = {input_data: learning_set.iloc[i,3:27].values, t: [1], weights_last_iter: learnt, L0: 1, sigma0: 1, time_const: 1})\n",
        "    if learning_set.iloc[i,1] == 'ckd':\n",
        "      ckd_counter+=1\n",
        "      distances_ckd.append(data_out)\n",
        "    else:\n",
        "      nckd_counter+=1\n",
        "      distances_nckd.append(data_out)\n",
        "\n",
        "  distances_ckd = np.sum(distances_ckd, axis=0)/ckd_counter\n",
        "  distances_nckd = np.sum(distances_nckd, axis=0)/nckd_counter \n",
        "  #plt.matshow(distances_ckd)\n",
        "  #plt.matshow(distances_nckd)\n",
        "  ckd_nckd = np.fromfunction(lambda i, j: distances_ckd[i,j] < 2*distances_nckd[i,j] , (width,height), dtype=int)\n",
        "  #plt.matshow(ckd_nckd)\n",
        "\n",
        "  # TP - wyniki prawdziwie dodatnie (ang. true positive)\n",
        "  # FP - wyniki fałszywie dodatnie (ang. false positive)\n",
        "  # FN - wyniki fałszywie ujemne (ang. false negative)\n",
        "  # TN - wyniki prawdziwie ujemne (ang. true negative)\n",
        "  TP = 0\n",
        "  FP = 0\n",
        "  FN = 0\n",
        "  TN = 0\n",
        "\n",
        "  ckd_data = learning_set.iloc[:ckd_counter,:]\n",
        "  nckd_data = learning_set.iloc[ckd_counter:,:]\n",
        "\n",
        "  for personCKD in range(1,ckd_counter):\n",
        "    patient1 = ckd_data.iloc[personCKD,3:27].values\n",
        "    check = check_if_ckd(ckd_nckd, patient1)\n",
        "    if check == True:\n",
        "      TP += 1\n",
        "    else:\n",
        "      FN += 1\n",
        "\n",
        "  for personNCKD in range(1,nckd_counter):\n",
        "    patient2 = nckd_data.iloc[personNCKD,3:27].values\n",
        "    check = check_if_ckd(ckd_nckd, patient2)\n",
        "    if check == True:\n",
        "      FP += 1\n",
        "    else:\n",
        "      TN += 1\n",
        "\n",
        "  sensitivity = TP/(TP+FN)*100\n",
        "  specificity = TN/(FP+TN)*100\n",
        "  acc = (TP+TN)/(TP+TN+FP+FN)*100\n",
        "  err = (1-(TP+TN)/(TP+TN+FP+FN))*100\n",
        "  print(\"błąd [%]: \", err)\n",
        "  error.append(err)\n",
        "\n",
        "plt.matshow(np.sum(learn(8000)[1],axis=-1))\n",
        "plt.matshow(ckd_nckd)\n",
        "plt.show()\n",
        "print(\"czułość [%]: \", sensitivity)\n",
        "print(\"specyficzność [%]: \", specificity)\n",
        "print(\"dokładność [%]: \", acc)\n",
        "print(\"błąd [%]: \", err)\n",
        "\n",
        "print(\"Błędy: \", error)\n",
        "\n",
        "print(time.clock() - start)\n",
        "print(\"Current: %d, Peak %d\" % tracemalloc.get_traced_memory())\n",
        "\n",
        "# patient = (learning_set.iloc[180,3:27].values)\n",
        "# print(learning_set.iloc[180,3:27].values)\n",
        "# print(bmu_check(patient))\n",
        "# print(check_if_ckd(ckd_nckd, patient))\n",
        "\n"
      ],
      "execution_count": 0,
      "outputs": [
        {
          "output_type": "stream",
          "text": [
            "błąd [%]:  8.273381294964032\n",
            "błąd [%]:  8.992805755395683\n",
            "błąd [%]:  11.151079136690644\n",
            "błąd [%]:  11.151079136690644\n",
            "błąd [%]:  9.712230215827333\n",
            "błąd [%]:  10.79136690647482\n",
            "błąd [%]:  7.5539568345323715\n",
            "błąd [%]:  8.273381294964032\n",
            "błąd [%]:  8.273381294964032\n",
            "błąd [%]:  6.474820143884896\n",
            "błąd [%]:  6.1151079136690605\n",
            "błąd [%]:  5.755395683453235\n",
            "błąd [%]:  6.1151079136690605\n",
            "błąd [%]:  5.755395683453235\n",
            "błąd [%]:  6.1151079136690605\n",
            "błąd [%]:  5.755395683453235\n"
          ],
          "name": "stdout"
        },
        {
          "output_type": "display_data",
          "data": {
            "image/png": "[encoded data removed]",
            "text/plain": [
              "<Figure size 288x288 with 1 Axes>"
            ]
          },
          "metadata": {
            "tags": []
          }
        },
        {
          "output_type": "display_data",
          "data": {
            "image/png": "[encoded data removed]",
            "text/plain": [
              "<Figure size 288x288 with 1 Axes>"
            ]
          },
          "metadata": {
            "tags": []
          }
        },
        {
          "output_type": "stream",
          "text": [
            "czułość [%]:  90.9090909090909\n",
            "specyficzność [%]:  100.0\n",
            "dokładność [%]:  94.24460431654677\n",
            "błąd [%]:  5.755395683453235\n",
            "Błędy:  [8.273381294964032, 8.992805755395683, 11.151079136690644, 11.151079136690644, 9.712230215827333, 10.79136690647482, 7.5539568345323715, 8.273381294964032, 8.273381294964032, 6.474820143884896, 6.1151079136690605, 5.755395683453235, 6.1151079136690605, 5.755395683453235, 6.1151079136690605, 5.755395683453235]\n",
            "1337.195031\n",
            "Current: 1366432, Peak 7445304\n"
          ],
          "name": "stdout"
        }
      ]
    },
    {
      "cell_type": "markdown",
      "metadata": {
        "id": "8ML6uXjEriuQ",
        "colab_type": "text"
      },
      "source": [
        "wykres błędu"
      ]
    },
    {
      "cell_type": "code",
      "metadata": {
        "id": "S3WGtbqlrhva",
        "colab_type": "code",
        "outputId": "2ee36691-9f8b-474c-ae38-0c9e99ae75e9",
        "colab": {
          "base_uri": "https://localhost:8080/",
          "height": 281
        }
      },
      "source": [
        "plt.plot(epoch_list, error)\n",
        "plt.title('Wykres błędu w zależności od liczby iteracji')\n",
        "plt.grid(True)"
      ],
      "execution_count": 0,
      "outputs": [
        {
          "output_type": "display_data",
          "data": {
            "image/png": "[encoded data removed]",
            "text/plain": [
              "<Figure size 432x288 with 1 Axes>"
            ]
          },
          "metadata": {
            "tags": []
          }
        }
      ]
    },
    {
      "cell_type": "code",
      "metadata": {
        "id": "vD4oF6a0wM3i",
        "colab_type": "code",
        "colab": {}
      },
      "source": [
        "# writer = tbc.get_writer()\n",
        "# writer.add_graph(tf.get_default_graph())\n",
        "# writer.flush()"
      ],
      "execution_count": 0,
      "outputs": []
    },
    {
      "cell_type": "markdown",
      "metadata": {
        "id": "s1K1R7cnrhj6",
        "colab_type": "text"
      },
      "source": [
        "wyniki"
      ]
    },
    {
      "cell_type": "code",
      "metadata": {
        "id": "jgc_oDJ0u4F0",
        "colab_type": "code",
        "outputId": "d58abd3c-a3d1-4025-9549-787f4ce839b7",
        "colab": {
          "base_uri": "https://localhost:8080/",
          "height": 34
        }
      },
      "source": [
        "patient = (learning_set.iloc[50,3:27].values)\n",
        "check = check_if_ckd(ckd_nckd, patient)\n",
        "if check == True:\n",
        "  print(\"Pacjent chory\")\n",
        "else:\n",
        "  print(\"Pacjent zdrowy\")"
      ],
      "execution_count": 0,
      "outputs": [
        {
          "output_type": "stream",
          "text": [
            "Pacjent chory\n"
          ],
          "name": "stdout"
        }
      ]
    }
  ]
}